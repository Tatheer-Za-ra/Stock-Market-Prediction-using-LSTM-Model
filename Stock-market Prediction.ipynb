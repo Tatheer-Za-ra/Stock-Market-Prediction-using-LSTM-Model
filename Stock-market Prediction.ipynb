{
 "cells": [
  {
   "cell_type": "code",
   "execution_count": 1,
   "id": "08dda440-4453-410e-9281-acd3fe30886a",
   "metadata": {},
   "outputs": [],
   "source": [
    "###keras and Tensorflow >2.0"
   ]
  },
  {
   "cell_type": "code",
   "execution_count": 2,
   "id": "f510bfd9-26f5-4312-ad3e-009f4b660783",
   "metadata": {},
   "outputs": [],
   "source": [
    "#Data Collection\n",
    "import pandas_datareader as pdr"
   ]
  },
  {
   "cell_type": "code",
   "execution_count": 3,
   "id": "d13a030a-4445-4388-a8da-ba9bde93ef6f",
   "metadata": {},
   "outputs": [
    {
     "name": "stdout",
     "output_type": "stream",
     "text": [
      "                         date   close      high      low     open     volume  \\\n",
      "0    2023-01-03T00:00:00.000Z  125.07  130.9000  124.170  130.280  112117471   \n",
      "1    2023-01-04T00:00:00.000Z  126.36  128.6557  125.080  126.890   89113633   \n",
      "2    2023-01-05T00:00:00.000Z  125.02  127.7700  124.760  127.130   80962708   \n",
      "3    2023-01-06T00:00:00.000Z  129.62  130.2900  124.890  126.010   87754715   \n",
      "4    2023-01-09T00:00:00.000Z  130.15  133.4100  129.890  130.465   70790813   \n",
      "..                        ...     ...       ...      ...      ...        ...   \n",
      "245  2023-12-22T00:00:00.000Z  193.60  195.4100  192.970  195.180   37149570   \n",
      "246  2023-12-26T00:00:00.000Z  193.05  193.8900  192.830  193.610   28919310   \n",
      "247  2023-12-27T00:00:00.000Z  193.15  193.5000  191.090  192.490   47899806   \n",
      "248  2023-12-28T00:00:00.000Z  193.58  194.6600  193.170  194.140   34049898   \n",
      "249  2023-12-29T00:00:00.000Z  192.53  194.4000  191.725  193.900   42672148   \n",
      "\n",
      "       adjClose     adjHigh      adjLow     adjOpen  adjVolume  divCash  \\\n",
      "0    123.908415  129.684268  123.016773  129.070027  112117471      0.0   \n",
      "1    125.186434  127.460812  123.918322  125.711511   89113633      0.0   \n",
      "2    123.858879  126.583338  123.601294  125.949282   80962708      0.0   \n",
      "3    128.416156  129.079934  123.730086  124.839684   87754715      0.0   \n",
      "4    128.941234  132.170957  128.683649  129.253309   70790813      0.0   \n",
      "..          ...         ...         ...         ...        ...      ...   \n",
      "245  192.868905  194.672070  192.241284  194.442938   37149570      0.0   \n",
      "246  192.320982  193.157810  192.101813  192.878867   28919310      0.0   \n",
      "247  192.420604  192.769283  190.368384  191.763097   47899806      0.0   \n",
      "248  192.848981  193.924902  192.440529  193.406866   34049898      0.0   \n",
      "249  191.802946  193.665884  191.000986  193.167772   42672148      0.0   \n",
      "\n",
      "     splitFactor  \n",
      "0            1.0  \n",
      "1            1.0  \n",
      "2            1.0  \n",
      "3            1.0  \n",
      "4            1.0  \n",
      "..           ...  \n",
      "245          1.0  \n",
      "246          1.0  \n",
      "247          1.0  \n",
      "248          1.0  \n",
      "249          1.0  \n",
      "\n",
      "[250 rows x 13 columns]\n"
     ]
    }
   ],
   "source": [
    "import requests\n",
    "import pandas as pd\n",
    "\n",
    "api_key = 'f7bb39c8d7060754a714620b02db873cfb617bc5'\n",
    "headers = {\n",
    "    'Content-Type': 'application/json',\n",
    "    'Authorization': 'Token ' + api_key\n",
    "}\n",
    "url = 'https://api.tiingo.com/tiingo/daily/AAPL/prices'\n",
    "\n",
    "# Specify the date range (e.g., the past year)\n",
    "params = {\n",
    "    'startDate': '2023-01-01',\n",
    "    'endDate': '2023-12-31',\n",
    "    'resampleFreq': 'daily'  # Optional: 'daily', 'weekly', 'monthly'\n",
    "}\n",
    "\n",
    "response = requests.get(url, headers=headers, params=params)\n",
    "data = response.json()\n",
    "df = pd.DataFrame(data)\n",
    "print(df)\n",
    "\n"
   ]
  },
  {
   "cell_type": "code",
   "execution_count": 4,
   "id": "357319df-b9df-4b09-a1ac-92153889d699",
   "metadata": {},
   "outputs": [],
   "source": [
    "df.to_csv('AAPL.csv')"
   ]
  },
  {
   "cell_type": "code",
   "execution_count": 5,
   "id": "053cdadf-88d1-45b8-b0c0-6a1e57ed2e19",
   "metadata": {},
   "outputs": [],
   "source": [
    "import pandas as pd"
   ]
  },
  {
   "cell_type": "code",
   "execution_count": 6,
   "id": "64b03193-e719-4230-8a6a-ac9e622d5886",
   "metadata": {},
   "outputs": [],
   "source": [
    "df=pd.read_csv('AAPL.csv')"
   ]
  },
  {
   "cell_type": "code",
   "execution_count": 7,
   "id": "fc460164-d33e-4b16-9c75-34e9d89689ec",
   "metadata": {},
   "outputs": [
    {
     "data": {
      "text/html": [
       "<div>\n",
       "<style scoped>\n",
       "    .dataframe tbody tr th:only-of-type {\n",
       "        vertical-align: middle;\n",
       "    }\n",
       "\n",
       "    .dataframe tbody tr th {\n",
       "        vertical-align: top;\n",
       "    }\n",
       "\n",
       "    .dataframe thead th {\n",
       "        text-align: right;\n",
       "    }\n",
       "</style>\n",
       "<table border=\"1\" class=\"dataframe\">\n",
       "  <thead>\n",
       "    <tr style=\"text-align: right;\">\n",
       "      <th></th>\n",
       "      <th>Unnamed: 0</th>\n",
       "      <th>date</th>\n",
       "      <th>close</th>\n",
       "      <th>high</th>\n",
       "      <th>low</th>\n",
       "      <th>open</th>\n",
       "      <th>volume</th>\n",
       "      <th>adjClose</th>\n",
       "      <th>adjHigh</th>\n",
       "      <th>adjLow</th>\n",
       "      <th>adjOpen</th>\n",
       "      <th>adjVolume</th>\n",
       "      <th>divCash</th>\n",
       "      <th>splitFactor</th>\n",
       "    </tr>\n",
       "  </thead>\n",
       "  <tbody>\n",
       "    <tr>\n",
       "      <th>0</th>\n",
       "      <td>0</td>\n",
       "      <td>2023-01-03T00:00:00.000Z</td>\n",
       "      <td>125.07</td>\n",
       "      <td>130.9000</td>\n",
       "      <td>124.17</td>\n",
       "      <td>130.280</td>\n",
       "      <td>112117471</td>\n",
       "      <td>123.908415</td>\n",
       "      <td>129.684268</td>\n",
       "      <td>123.016773</td>\n",
       "      <td>129.070027</td>\n",
       "      <td>112117471</td>\n",
       "      <td>0.0</td>\n",
       "      <td>1.0</td>\n",
       "    </tr>\n",
       "    <tr>\n",
       "      <th>1</th>\n",
       "      <td>1</td>\n",
       "      <td>2023-01-04T00:00:00.000Z</td>\n",
       "      <td>126.36</td>\n",
       "      <td>128.6557</td>\n",
       "      <td>125.08</td>\n",
       "      <td>126.890</td>\n",
       "      <td>89113633</td>\n",
       "      <td>125.186434</td>\n",
       "      <td>127.460812</td>\n",
       "      <td>123.918322</td>\n",
       "      <td>125.711511</td>\n",
       "      <td>89113633</td>\n",
       "      <td>0.0</td>\n",
       "      <td>1.0</td>\n",
       "    </tr>\n",
       "    <tr>\n",
       "      <th>2</th>\n",
       "      <td>2</td>\n",
       "      <td>2023-01-05T00:00:00.000Z</td>\n",
       "      <td>125.02</td>\n",
       "      <td>127.7700</td>\n",
       "      <td>124.76</td>\n",
       "      <td>127.130</td>\n",
       "      <td>80962708</td>\n",
       "      <td>123.858879</td>\n",
       "      <td>126.583338</td>\n",
       "      <td>123.601294</td>\n",
       "      <td>125.949282</td>\n",
       "      <td>80962708</td>\n",
       "      <td>0.0</td>\n",
       "      <td>1.0</td>\n",
       "    </tr>\n",
       "    <tr>\n",
       "      <th>3</th>\n",
       "      <td>3</td>\n",
       "      <td>2023-01-06T00:00:00.000Z</td>\n",
       "      <td>129.62</td>\n",
       "      <td>130.2900</td>\n",
       "      <td>124.89</td>\n",
       "      <td>126.010</td>\n",
       "      <td>87754715</td>\n",
       "      <td>128.416156</td>\n",
       "      <td>129.079934</td>\n",
       "      <td>123.730086</td>\n",
       "      <td>124.839684</td>\n",
       "      <td>87754715</td>\n",
       "      <td>0.0</td>\n",
       "      <td>1.0</td>\n",
       "    </tr>\n",
       "    <tr>\n",
       "      <th>4</th>\n",
       "      <td>4</td>\n",
       "      <td>2023-01-09T00:00:00.000Z</td>\n",
       "      <td>130.15</td>\n",
       "      <td>133.4100</td>\n",
       "      <td>129.89</td>\n",
       "      <td>130.465</td>\n",
       "      <td>70790813</td>\n",
       "      <td>128.941234</td>\n",
       "      <td>132.170957</td>\n",
       "      <td>128.683649</td>\n",
       "      <td>129.253309</td>\n",
       "      <td>70790813</td>\n",
       "      <td>0.0</td>\n",
       "      <td>1.0</td>\n",
       "    </tr>\n",
       "  </tbody>\n",
       "</table>\n",
       "</div>"
      ],
      "text/plain": [
       "   Unnamed: 0                      date   close      high     low     open  \\\n",
       "0           0  2023-01-03T00:00:00.000Z  125.07  130.9000  124.17  130.280   \n",
       "1           1  2023-01-04T00:00:00.000Z  126.36  128.6557  125.08  126.890   \n",
       "2           2  2023-01-05T00:00:00.000Z  125.02  127.7700  124.76  127.130   \n",
       "3           3  2023-01-06T00:00:00.000Z  129.62  130.2900  124.89  126.010   \n",
       "4           4  2023-01-09T00:00:00.000Z  130.15  133.4100  129.89  130.465   \n",
       "\n",
       "      volume    adjClose     adjHigh      adjLow     adjOpen  adjVolume  \\\n",
       "0  112117471  123.908415  129.684268  123.016773  129.070027  112117471   \n",
       "1   89113633  125.186434  127.460812  123.918322  125.711511   89113633   \n",
       "2   80962708  123.858879  126.583338  123.601294  125.949282   80962708   \n",
       "3   87754715  128.416156  129.079934  123.730086  124.839684   87754715   \n",
       "4   70790813  128.941234  132.170957  128.683649  129.253309   70790813   \n",
       "\n",
       "   divCash  splitFactor  \n",
       "0      0.0          1.0  \n",
       "1      0.0          1.0  \n",
       "2      0.0          1.0  \n",
       "3      0.0          1.0  \n",
       "4      0.0          1.0  "
      ]
     },
     "execution_count": 7,
     "metadata": {},
     "output_type": "execute_result"
    }
   ],
   "source": [
    "df.head()"
   ]
  },
  {
   "cell_type": "code",
   "execution_count": 8,
   "id": "9184462c-b712-47c1-945e-6f5d8ac4621f",
   "metadata": {},
   "outputs": [
    {
     "data": {
      "text/html": [
       "<div>\n",
       "<style scoped>\n",
       "    .dataframe tbody tr th:only-of-type {\n",
       "        vertical-align: middle;\n",
       "    }\n",
       "\n",
       "    .dataframe tbody tr th {\n",
       "        vertical-align: top;\n",
       "    }\n",
       "\n",
       "    .dataframe thead th {\n",
       "        text-align: right;\n",
       "    }\n",
       "</style>\n",
       "<table border=\"1\" class=\"dataframe\">\n",
       "  <thead>\n",
       "    <tr style=\"text-align: right;\">\n",
       "      <th></th>\n",
       "      <th>Unnamed: 0</th>\n",
       "      <th>date</th>\n",
       "      <th>close</th>\n",
       "      <th>high</th>\n",
       "      <th>low</th>\n",
       "      <th>open</th>\n",
       "      <th>volume</th>\n",
       "      <th>adjClose</th>\n",
       "      <th>adjHigh</th>\n",
       "      <th>adjLow</th>\n",
       "      <th>adjOpen</th>\n",
       "      <th>adjVolume</th>\n",
       "      <th>divCash</th>\n",
       "      <th>splitFactor</th>\n",
       "    </tr>\n",
       "  </thead>\n",
       "  <tbody>\n",
       "    <tr>\n",
       "      <th>245</th>\n",
       "      <td>245</td>\n",
       "      <td>2023-12-22T00:00:00.000Z</td>\n",
       "      <td>193.60</td>\n",
       "      <td>195.41</td>\n",
       "      <td>192.970</td>\n",
       "      <td>195.18</td>\n",
       "      <td>37149570</td>\n",
       "      <td>192.868905</td>\n",
       "      <td>194.672070</td>\n",
       "      <td>192.241284</td>\n",
       "      <td>194.442938</td>\n",
       "      <td>37149570</td>\n",
       "      <td>0.0</td>\n",
       "      <td>1.0</td>\n",
       "    </tr>\n",
       "    <tr>\n",
       "      <th>246</th>\n",
       "      <td>246</td>\n",
       "      <td>2023-12-26T00:00:00.000Z</td>\n",
       "      <td>193.05</td>\n",
       "      <td>193.89</td>\n",
       "      <td>192.830</td>\n",
       "      <td>193.61</td>\n",
       "      <td>28919310</td>\n",
       "      <td>192.320982</td>\n",
       "      <td>193.157810</td>\n",
       "      <td>192.101813</td>\n",
       "      <td>192.878867</td>\n",
       "      <td>28919310</td>\n",
       "      <td>0.0</td>\n",
       "      <td>1.0</td>\n",
       "    </tr>\n",
       "    <tr>\n",
       "      <th>247</th>\n",
       "      <td>247</td>\n",
       "      <td>2023-12-27T00:00:00.000Z</td>\n",
       "      <td>193.15</td>\n",
       "      <td>193.50</td>\n",
       "      <td>191.090</td>\n",
       "      <td>192.49</td>\n",
       "      <td>47899806</td>\n",
       "      <td>192.420604</td>\n",
       "      <td>192.769283</td>\n",
       "      <td>190.368384</td>\n",
       "      <td>191.763097</td>\n",
       "      <td>47899806</td>\n",
       "      <td>0.0</td>\n",
       "      <td>1.0</td>\n",
       "    </tr>\n",
       "    <tr>\n",
       "      <th>248</th>\n",
       "      <td>248</td>\n",
       "      <td>2023-12-28T00:00:00.000Z</td>\n",
       "      <td>193.58</td>\n",
       "      <td>194.66</td>\n",
       "      <td>193.170</td>\n",
       "      <td>194.14</td>\n",
       "      <td>34049898</td>\n",
       "      <td>192.848981</td>\n",
       "      <td>193.924902</td>\n",
       "      <td>192.440529</td>\n",
       "      <td>193.406866</td>\n",
       "      <td>34049898</td>\n",
       "      <td>0.0</td>\n",
       "      <td>1.0</td>\n",
       "    </tr>\n",
       "    <tr>\n",
       "      <th>249</th>\n",
       "      <td>249</td>\n",
       "      <td>2023-12-29T00:00:00.000Z</td>\n",
       "      <td>192.53</td>\n",
       "      <td>194.40</td>\n",
       "      <td>191.725</td>\n",
       "      <td>193.90</td>\n",
       "      <td>42672148</td>\n",
       "      <td>191.802946</td>\n",
       "      <td>193.665884</td>\n",
       "      <td>191.000986</td>\n",
       "      <td>193.167772</td>\n",
       "      <td>42672148</td>\n",
       "      <td>0.0</td>\n",
       "      <td>1.0</td>\n",
       "    </tr>\n",
       "  </tbody>\n",
       "</table>\n",
       "</div>"
      ],
      "text/plain": [
       "     Unnamed: 0                      date   close    high      low    open  \\\n",
       "245         245  2023-12-22T00:00:00.000Z  193.60  195.41  192.970  195.18   \n",
       "246         246  2023-12-26T00:00:00.000Z  193.05  193.89  192.830  193.61   \n",
       "247         247  2023-12-27T00:00:00.000Z  193.15  193.50  191.090  192.49   \n",
       "248         248  2023-12-28T00:00:00.000Z  193.58  194.66  193.170  194.14   \n",
       "249         249  2023-12-29T00:00:00.000Z  192.53  194.40  191.725  193.90   \n",
       "\n",
       "       volume    adjClose     adjHigh      adjLow     adjOpen  adjVolume  \\\n",
       "245  37149570  192.868905  194.672070  192.241284  194.442938   37149570   \n",
       "246  28919310  192.320982  193.157810  192.101813  192.878867   28919310   \n",
       "247  47899806  192.420604  192.769283  190.368384  191.763097   47899806   \n",
       "248  34049898  192.848981  193.924902  192.440529  193.406866   34049898   \n",
       "249  42672148  191.802946  193.665884  191.000986  193.167772   42672148   \n",
       "\n",
       "     divCash  splitFactor  \n",
       "245      0.0          1.0  \n",
       "246      0.0          1.0  \n",
       "247      0.0          1.0  \n",
       "248      0.0          1.0  \n",
       "249      0.0          1.0  "
      ]
     },
     "execution_count": 8,
     "metadata": {},
     "output_type": "execute_result"
    }
   ],
   "source": [
    "df.tail()"
   ]
  },
  {
   "cell_type": "code",
   "execution_count": 9,
   "id": "63040b05-44b9-4dcd-bb8c-4c959e0d93e8",
   "metadata": {},
   "outputs": [],
   "source": [
    "df1=df.reset_index()['close'] "
   ]
  },
  {
   "cell_type": "code",
   "execution_count": 10,
   "id": "8caba48b-f193-4591-bf21-51963b0d0b88",
   "metadata": {},
   "outputs": [
    {
     "data": {
      "text/plain": [
       "(250,)"
      ]
     },
     "execution_count": 10,
     "metadata": {},
     "output_type": "execute_result"
    }
   ],
   "source": [
    "df1.shape"
   ]
  },
  {
   "cell_type": "code",
   "execution_count": 11,
   "id": "cdfe38e9-770c-487b-8183-953f9d88fc24",
   "metadata": {},
   "outputs": [
    {
     "data": {
      "text/plain": [
       "[<matplotlib.lines.Line2D at 0x264dcfbfd50>]"
      ]
     },
     "execution_count": 11,
     "metadata": {},
     "output_type": "execute_result"
    },
    {
     "data": {
      "image/png": "[encoded data removed]",
      "text/plain": [
       "<Figure size 640x480 with 1 Axes>"
      ]
     },
     "metadata": {},
     "output_type": "display_data"
    }
   ],
   "source": [
    "import matplotlib.pyplot as plt\n",
    "plt.plot(df1)"
   ]
  },
  {
   "cell_type": "code",
   "execution_count": 12,
   "id": "3b9da569-f2c2-4b75-82fb-ba188ced0acc",
   "metadata": {},
   "outputs": [],
   "source": [
    "### Applying MinMax scaler"
   ]
  },
  {
   "cell_type": "code",
   "execution_count": 13,
   "id": "1ae8ea11-ad8a-4b64-b043-34becd5e4e46",
   "metadata": {},
   "outputs": [],
   "source": [
    "import numpy as np"
   ]
  },
  {
   "cell_type": "code",
   "execution_count": 14,
   "id": "7d1cf3c8-f4b2-4979-ad81-669063b49355",
   "metadata": {},
   "outputs": [],
   "source": [
    "from sklearn.preprocessing import MinMaxScaler\n",
    "scaler=MinMaxScaler(feature_range=(0,1))\n",
    "df1=scaler.fit_transform(np.array(df1).reshape(-1,1))"
   ]
  },
  {
   "cell_type": "code",
   "execution_count": 15,
   "id": "812cd879-a75a-4722-b567-84cf186f5c51",
   "metadata": {},
   "outputs": [
    {
     "data": {
      "text/plain": [
       "(250, 1)"
      ]
     },
     "execution_count": 15,
     "metadata": {},
     "output_type": "execute_result"
    }
   ],
   "source": [
    "df1.shape"
   ]
  },
  {
   "cell_type": "code",
   "execution_count": 16,
   "id": "be649de4-8b84-475e-95f6-8f86f35bef70",
   "metadata": {},
   "outputs": [],
   "source": [
    "### splitting dataset into train and test split\n",
    "training_size=int(len(df1)*0.65)\n",
    "test_size=len(df1)-training_size\n",
    "train_data,test_data=df1[0:training_size,:],df1[training_size:len(df1),:1]\n"
   ]
  },
  {
   "cell_type": "code",
   "execution_count": 17,
   "id": "47fcaf98-9403-4244-ad22-aec2b67ad053",
   "metadata": {},
   "outputs": [
    {
     "data": {
      "text/plain": [
       "(162, 88)"
      ]
     },
     "execution_count": 17,
     "metadata": {},
     "output_type": "execute_result"
    }
   ],
   "source": [
    "training_size,test_size"
   ]
  },
  {
   "cell_type": "code",
   "execution_count": 18,
   "id": "6c2495b9-49f9-4cd9-a62c-ac7373df6f2e",
   "metadata": {},
   "outputs": [
    {
     "data": {
      "text/plain": [
       "array([[6.84088111e-04],\n",
       "       [1.83335614e-02],\n",
       "       [0.00000000e+00],\n",
       "       [6.29361062e-02],\n",
       "       [7.01874401e-02],\n",
       "       [7.81228622e-02],\n",
       "       [1.15884526e-01],\n",
       "       [1.14789985e-01],\n",
       "       [1.33260364e-01],\n",
       "       [1.49404843e-01],\n",
       "       [1.39417157e-01],\n",
       "       [1.40238063e-01],\n",
       "       [1.75810644e-01],\n",
       "       [2.20139554e-01],\n",
       "       [2.39567656e-01],\n",
       "       [2.30400876e-01],\n",
       "       [2.59132576e-01],\n",
       "       [2.86085648e-01],\n",
       "       [2.45998085e-01],\n",
       "       [2.63647558e-01],\n",
       "       [2.79244767e-01],\n",
       "       [3.52989465e-01],\n",
       "       [4.03338350e-01],\n",
       "       [3.65439869e-01],\n",
       "       [4.05390614e-01],\n",
       "       [3.68039403e-01],\n",
       "       [3.53673553e-01],\n",
       "       [3.55589000e-01],\n",
       "       [3.94445205e-01],\n",
       "       [3.85552059e-01],\n",
       "       [4.14694213e-01],\n",
       "       [3.92529758e-01],\n",
       "       [3.76658914e-01],\n",
       "       [3.20974141e-01],\n",
       "       [3.26857299e-01],\n",
       "       [3.33561363e-01],\n",
       "       [2.96757422e-01],\n",
       "       [3.13312355e-01],\n",
       "       [3.06334656e-01],\n",
       "       [2.77602955e-01],\n",
       "       [2.85812013e-01],\n",
       "       [3.55862635e-01],\n",
       "       [3.94171569e-01],\n",
       "       [3.63661240e-01],\n",
       "       [3.81037078e-01],\n",
       "       [3.49842660e-01],\n",
       "       [3.21247777e-01],\n",
       "       [3.48200848e-01],\n",
       "       [3.77206184e-01],\n",
       "       [3.82678889e-01],\n",
       "       [4.21808729e-01],\n",
       "       [4.10179231e-01],\n",
       "       [4.43015460e-01],\n",
       "       [4.68737173e-01],\n",
       "       [4.48898618e-01],\n",
       "       [4.63948557e-01],\n",
       "       [4.82008483e-01],\n",
       "       [4.55055411e-01],\n",
       "       [4.46435901e-01],\n",
       "       [4.89122999e-01],\n",
       "       [5.10877001e-01],\n",
       "       [5.45628677e-01],\n",
       "       [5.63004515e-01],\n",
       "       [5.55616363e-01],\n",
       "       [5.30031468e-01],\n",
       "       [5.42345054e-01],\n",
       "       [5.06362019e-01],\n",
       "       [4.89533452e-01],\n",
       "       [4.79956218e-01],\n",
       "       [5.54658640e-01],\n",
       "       [5.49870023e-01],\n",
       "       [5.50143659e-01],\n",
       "       [5.67109044e-01],\n",
       "       [5.82979888e-01],\n",
       "       [5.69571761e-01],\n",
       "       [5.47270488e-01],\n",
       "       [5.51511835e-01],\n",
       "       [5.30168286e-01],\n",
       "       [5.30031468e-01],\n",
       "       [5.93651662e-01],\n",
       "       [6.11027500e-01],\n",
       "       [6.09796142e-01],\n",
       "       [5.95430291e-01],\n",
       "       [5.80517171e-01],\n",
       "       [5.57805445e-01],\n",
       "       [6.64249555e-01],\n",
       "       [6.63291832e-01],\n",
       "       [6.39622383e-01],\n",
       "       [6.64044329e-01],\n",
       "       [6.66712273e-01],\n",
       "       [6.50567793e-01],\n",
       "       [6.43726912e-01],\n",
       "       [6.43726912e-01],\n",
       "       [6.52209605e-01],\n",
       "       [6.84498563e-01],\n",
       "       [6.86003557e-01],\n",
       "       [6.72869066e-01],\n",
       "       [6.36749213e-01],\n",
       "       [6.40580107e-01],\n",
       "       [6.56314133e-01],\n",
       "       [6.89697633e-01],\n",
       "       [7.15282528e-01],\n",
       "       [7.14598440e-01],\n",
       "       [7.53454645e-01],\n",
       "       [7.65220960e-01],\n",
       "       [7.46476946e-01],\n",
       "       [7.41414694e-01],\n",
       "       [7.22397045e-01],\n",
       "       [7.60021891e-01],\n",
       "       [7.65357778e-01],\n",
       "       [8.04077165e-01],\n",
       "       [7.97509919e-01],\n",
       "       [8.06266247e-01],\n",
       "       [8.34450677e-01],\n",
       "       [8.19537556e-01],\n",
       "       [8.20768915e-01],\n",
       "       [8.06403065e-01],\n",
       "       [8.47995622e-01],\n",
       "       [8.43617458e-01],\n",
       "       [8.24326173e-01],\n",
       "       [8.62498290e-01],\n",
       "       [8.78779587e-01],\n",
       "       [8.83431386e-01],\n",
       "       [9.43357504e-01],\n",
       "       [9.22698044e-01],\n",
       "       [9.07237652e-01],\n",
       "       [9.13804898e-01],\n",
       "       [8.98344507e-01],\n",
       "       [8.70023259e-01],\n",
       "       [8.62771925e-01],\n",
       "       [8.85894103e-01],\n",
       "       [8.96429060e-01],\n",
       "       [8.98481324e-01],\n",
       "       [9.43631140e-01],\n",
       "       [9.40073882e-01],\n",
       "       [9.58817896e-01],\n",
       "       [9.31864824e-01],\n",
       "       [9.15583527e-01],\n",
       "       [9.26665755e-01],\n",
       "       [9.38568888e-01],\n",
       "       [9.50608838e-01],\n",
       "       [9.33096183e-01],\n",
       "       [9.68805582e-01],\n",
       "       [9.77288275e-01],\n",
       "       [9.65727186e-01],\n",
       "       [9.24339855e-01],\n",
       "       [9.05048570e-01],\n",
       "       [7.79449993e-01],\n",
       "       [7.36489260e-01],\n",
       "       [7.49486934e-01],\n",
       "       [7.27459297e-01],\n",
       "       [7.24449309e-01],\n",
       "       [7.21986592e-01],\n",
       "       [7.44835135e-01],\n",
       "       [7.17334793e-01],\n",
       "       [7.05294842e-01],\n",
       "       [6.70132713e-01],\n",
       "       [6.76836777e-01],\n",
       "       [6.95307156e-01],\n",
       "       [7.14324805e-01],\n",
       "       [7.67546860e-01],\n",
       "       [7.02695307e-01]])"
      ]
     },
     "execution_count": 18,
     "metadata": {},
     "output_type": "execute_result"
    }
   ],
   "source": [
    "train_data"
   ]
  },
  {
   "cell_type": "code",
   "execution_count": 19,
   "id": "f5c94879-a962-4c45-9036-cf28588ca161",
   "metadata": {},
   "outputs": [],
   "source": [
    "    import numpy\n",
    "# convert an array of values into a dataset matrix\n",
    "def create_dataset(dataset, time_step=1):\n",
    "\tdataX, dataY = [], []\n",
    "\tfor i in range(len(dataset)-time_step-1):\n",
    "\t\ta = dataset[i:(i+time_step), 0]   ###i=0, 0,1,2,3-----99   100 \n",
    "\t\tdataX.append(a)\n",
    "\t\tdataY.append(dataset[i + time_step, 0])\n",
    "\treturn numpy.array(dataX), numpy.array(dataY)"
   ]
  },
  {
   "cell_type": "code",
   "execution_count": 20,
   "id": "97930a28-6f3c-4884-a45a-b9319f8a8b18",
   "metadata": {},
   "outputs": [],
   "source": [
    "# reshape into X=t,t+1,t+2,t+3 and Y=t+4\n",
    "time_step = 10\n",
    "X_train, y_train = create_dataset(train_data, time_step)\n",
    "X_test, ytest = create_dataset(test_data, time_step)"
   ]
  },
  {
   "cell_type": "code",
   "execution_count": 21,
   "id": "bbb9eb87-cfe9-4adb-8a05-d39a164776b7",
   "metadata": {},
   "outputs": [
    {
     "name": "stdout",
     "output_type": "stream",
     "text": [
      "(151, 10)\n",
      "(151,)\n"
     ]
    },
    {
     "data": {
      "text/plain": [
       "(None, None)"
      ]
     },
     "execution_count": 21,
     "metadata": {},
     "output_type": "execute_result"
    }
   ],
   "source": [
    "print(X_train.shape), print(y_train.shape)"
   ]
  },
  {
   "cell_type": "code",
   "execution_count": 22,
   "id": "76b7f008-2f39-4d1b-8f68-b0503af46288",
   "metadata": {},
   "outputs": [
    {
     "name": "stdout",
     "output_type": "stream",
     "text": [
      "(77, 10)\n",
      "(77,)\n"
     ]
    },
    {
     "data": {
      "text/plain": [
       "(None, None)"
      ]
     },
     "execution_count": 22,
     "metadata": {},
     "output_type": "execute_result"
    }
   ],
   "source": [
    "print(X_test.shape), print(ytest.shape) "
   ]
  },
  {
   "cell_type": "code",
   "execution_count": 23,
   "id": "bdead697-a943-4542-a2b6-2dab4e5566c7",
   "metadata": {},
   "outputs": [],
   "source": [
    "# reshape input to be [samples, time steps, features] which is required for LSTM\n",
    "X_train =X_train.reshape(X_train.shape[0],X_train.shape[1] , 1)\n",
    "X_test = X_test.reshape(X_test.shape[0],X_test.shape[1] , 1)"
   ]
  },
  {
   "cell_type": "code",
   "execution_count": 24,
   "id": "f52e9ffc-4aba-455b-b9ed-18f363ee5f86",
   "metadata": {},
   "outputs": [],
   "source": [
    "### Create the Stacked LSTM model\n",
    "from keras.models import Sequential\n",
    "from keras.layers import LSTM, Dense, Input"
   ]
  },
  {
   "cell_type": "code",
   "execution_count": 25,
   "id": "3b77514c-a31b-495c-92b3-6c43243241bc",
   "metadata": {},
   "outputs": [],
   "source": [
    "\n",
    "model = Sequential()\n",
    "model.add(Input(shape=(100, 1)))  # Specify the input shape using the Input layer\n",
    "model.add(LSTM(50, return_sequences=True))\n",
    "model.add(LSTM(50, return_sequences=True))\n",
    "model.add(LSTM(50))\n",
    "model.add(Dense(1))\n",
    "\n",
    "model.compile(loss='mean_squared_error', optimizer='adam')"
   ]
  },
  {
   "cell_type": "code",
   "execution_count": 26,
   "id": "04814e43-7369-480a-80c8-2c712818650c",
   "metadata": {},
   "outputs": [
    {
     "data": {
      "text/html": [
       "<pre style=\"white-space:pre;overflow-x:auto;line-height:normal;font-family:Menlo,'DejaVu Sans Mono',consolas,'Courier New',monospace\"><span style=\"font-weight: bold\">Model: \"sequential\"</span>\n",
       "</pre>\n"
      ],
      "text/plain": [
       "\u001b[1mModel: \"sequential\"\u001b[0m\n"
      ]
     },
     "metadata": {},
     "output_type": "display_data"
    },
    {
     "data": {
      "text/html": [
       "<pre style=\"white-space:pre;overflow-x:auto;line-height:normal;font-family:Menlo,'DejaVu Sans Mono',consolas,'Courier New',monospace\">┏━━━━━━━━━━━━━━━━━━━━━━━━━━━━━━━━━━━━━━┳━━━━━━━━━━━━━━━━━━━━━━━━━━━━━┳━━━━━━━━━━━━━━━━━┓\n",
       "┃<span style=\"font-weight: bold\"> Layer (type)                         </span>┃<span style=\"font-weight: bold\"> Output Shape                </span>┃<span style=\"font-weight: bold\">         Param # </span>┃\n",
       "┡━━━━━━━━━━━━━━━━━━━━━━━━━━━━━━━━━━━━━━╇━━━━━━━━━━━━━━━━━━━━━━━━━━━━━╇━━━━━━━━━━━━━━━━━┩\n",
       "│ lstm (<span style=\"color: #0087ff; text-decoration-color: #0087ff\">LSTM</span>)                          │ (<span style=\"color: #00d7ff; text-decoration-color: #00d7ff\">None</span>, <span style=\"color: #00af00; text-decoration-color: #00af00\">100</span>, <span style=\"color: #00af00; text-decoration-color: #00af00\">50</span>)             │          <span style=\"color: #00af00; text-decoration-color: #00af00\">10,400</span> │\n",
       "├──────────────────────────────────────┼─────────────────────────────┼─────────────────┤\n",
       "│ lstm_1 (<span style=\"color: #0087ff; text-decoration-color: #0087ff\">LSTM</span>)                        │ (<span style=\"color: #00d7ff; text-decoration-color: #00d7ff\">None</span>, <span style=\"color: #00af00; text-decoration-color: #00af00\">100</span>, <span style=\"color: #00af00; text-decoration-color: #00af00\">50</span>)             │          <span style=\"color: #00af00; text-decoration-color: #00af00\">20,200</span> │\n",
       "├──────────────────────────────────────┼─────────────────────────────┼─────────────────┤\n",
       "│ lstm_2 (<span style=\"color: #0087ff; text-decoration-color: #0087ff\">LSTM</span>)                        │ (<span style=\"color: #00d7ff; text-decoration-color: #00d7ff\">None</span>, <span style=\"color: #00af00; text-decoration-color: #00af00\">50</span>)                  │          <span style=\"color: #00af00; text-decoration-color: #00af00\">20,200</span> │\n",
       "├──────────────────────────────────────┼─────────────────────────────┼─────────────────┤\n",
       "│ dense (<span style=\"color: #0087ff; text-decoration-color: #0087ff\">Dense</span>)                        │ (<span style=\"color: #00d7ff; text-decoration-color: #00d7ff\">None</span>, <span style=\"color: #00af00; text-decoration-color: #00af00\">1</span>)                   │              <span style=\"color: #00af00; text-decoration-color: #00af00\">51</span> │\n",
       "└──────────────────────────────────────┴─────────────────────────────┴─────────────────┘\n",
       "</pre>\n"
      ],
      "text/plain": [
       "┏━━━━━━━━━━━━━━━━━━━━━━━━━━━━━━━━━━━━━━┳━━━━━━━━━━━━━━━━━━━━━━━━━━━━━┳━━━━━━━━━━━━━━━━━┓\n",
       "┃\u001b[1m \u001b[0m\u001b[1mLayer (type)                        \u001b[0m\u001b[1m \u001b[0m┃\u001b[1m \u001b[0m\u001b[1mOutput Shape               \u001b[0m\u001b[1m \u001b[0m┃\u001b[1m \u001b[0m\u001b[1m        Param #\u001b[0m\u001b[1m \u001b[0m┃\n",
       "┡━━━━━━━━━━━━━━━━━━━━━━━━━━━━━━━━━━━━━━╇━━━━━━━━━━━━━━━━━━━━━━━━━━━━━╇━━━━━━━━━━━━━━━━━┩\n",
       "│ lstm (\u001b[38;5;33mLSTM\u001b[0m)                          │ (\u001b[38;5;45mNone\u001b[0m, \u001b[38;5;34m100\u001b[0m, \u001b[38;5;34m50\u001b[0m)             │          \u001b[38;5;34m10,400\u001b[0m │\n",
       "├──────────────────────────────────────┼─────────────────────────────┼─────────────────┤\n",
       "│ lstm_1 (\u001b[38;5;33mLSTM\u001b[0m)                        │ (\u001b[38;5;45mNone\u001b[0m, \u001b[38;5;34m100\u001b[0m, \u001b[38;5;34m50\u001b[0m)             │          \u001b[38;5;34m20,200\u001b[0m │\n",
       "├──────────────────────────────────────┼─────────────────────────────┼─────────────────┤\n",
       "│ lstm_2 (\u001b[38;5;33mLSTM\u001b[0m)                        │ (\u001b[38;5;45mNone\u001b[0m, \u001b[38;5;34m50\u001b[0m)                  │          \u001b[38;5;34m20,200\u001b[0m │\n",
       "├──────────────────────────────────────┼─────────────────────────────┼─────────────────┤\n",
       "│ dense (\u001b[38;5;33mDense\u001b[0m)                        │ (\u001b[38;5;45mNone\u001b[0m, \u001b[38;5;34m1\u001b[0m)                   │              \u001b[38;5;34m51\u001b[0m │\n",
       "└──────────────────────────────────────┴─────────────────────────────┴─────────────────┘\n"
      ]
     },
     "metadata": {},
     "output_type": "display_data"
    },
    {
     "data": {
      "text/html": [
       "<pre style=\"white-space:pre;overflow-x:auto;line-height:normal;font-family:Menlo,'DejaVu Sans Mono',consolas,'Courier New',monospace\"><span style=\"font-weight: bold\"> Total params: </span><span style=\"color: #00af00; text-decoration-color: #00af00\">50,851</span> (198.64 KB)\n",
       "</pre>\n"
      ],
      "text/plain": [
       "\u001b[1m Total params: \u001b[0m\u001b[38;5;34m50,851\u001b[0m (198.64 KB)\n"
      ]
     },
     "metadata": {},
     "output_type": "display_data"
    },
    {
     "data": {
      "text/html": [
       "<pre style=\"white-space:pre;overflow-x:auto;line-height:normal;font-family:Menlo,'DejaVu Sans Mono',consolas,'Courier New',monospace\"><span style=\"font-weight: bold\"> Trainable params: </span><span style=\"color: #00af00; text-decoration-color: #00af00\">50,851</span> (198.64 KB)\n",
       "</pre>\n"
      ],
      "text/plain": [
       "\u001b[1m Trainable params: \u001b[0m\u001b[38;5;34m50,851\u001b[0m (198.64 KB)\n"
      ]
     },
     "metadata": {},
     "output_type": "display_data"
    },
    {
     "data": {
      "text/html": [
       "<pre style=\"white-space:pre;overflow-x:auto;line-height:normal;font-family:Menlo,'DejaVu Sans Mono',consolas,'Courier New',monospace\"><span style=\"font-weight: bold\"> Non-trainable params: </span><span style=\"color: #00af00; text-decoration-color: #00af00\">0</span> (0.00 B)\n",
       "</pre>\n"
      ],
      "text/plain": [
       "\u001b[1m Non-trainable params: \u001b[0m\u001b[38;5;34m0\u001b[0m (0.00 B)\n"
      ]
     },
     "metadata": {},
     "output_type": "display_data"
    }
   ],
   "source": [
    "model.summary()\n"
   ]
  },
  {
   "cell_type": "code",
   "execution_count": 27,
   "id": "97fa746d-3cd4-4875-a9b4-4902a3ae929d",
   "metadata": {},
   "outputs": [
    {
     "name": "stdout",
     "output_type": "stream",
     "text": [
      "Epoch 1/100\n",
      "\u001b[1m3/3\u001b[0m \u001b[32m━━━━━━━━━━━━━━━━━━━━\u001b[0m\u001b[37m\u001b[0m \u001b[1m5s\u001b[0m 298ms/step - loss: 0.3955 - val_loss: 0.3853\n",
      "Epoch 2/100\n",
      "\u001b[1m3/3\u001b[0m \u001b[32m━━━━━━━━━━━━━━━━━━━━\u001b[0m\u001b[37m\u001b[0m \u001b[1m0s\u001b[0m 31ms/step - loss: 0.2234 - val_loss: 0.1565\n",
      "Epoch 3/100\n",
      "\u001b[1m3/3\u001b[0m \u001b[32m━━━━━━━━━━━━━━━━━━━━\u001b[0m\u001b[37m\u001b[0m \u001b[1m0s\u001b[0m 32ms/step - loss: 0.0723 - val_loss: 0.0064\n",
      "Epoch 4/100\n",
      "\u001b[1m3/3\u001b[0m \u001b[32m━━━━━━━━━━━━━━━━━━━━\u001b[0m\u001b[37m\u001b[0m \u001b[1m0s\u001b[0m 30ms/step - loss: 0.0145 - val_loss: 0.0666\n",
      "Epoch 5/100\n",
      "\u001b[1m3/3\u001b[0m \u001b[32m━━━━━━━━━━━━━━━━━━━━\u001b[0m\u001b[37m\u001b[0m \u001b[1m0s\u001b[0m 32ms/step - loss: 0.0527 - val_loss: 0.0129\n",
      "Epoch 6/100\n",
      "\u001b[1m3/3\u001b[0m \u001b[32m━━━━━━━━━━━━━━━━━━━━\u001b[0m\u001b[37m\u001b[0m \u001b[1m0s\u001b[0m 31ms/step - loss: 0.0120 - val_loss: 0.0169\n",
      "Epoch 7/100\n",
      "\u001b[1m3/3\u001b[0m \u001b[32m━━━━━━━━━━━━━━━━━━━━\u001b[0m\u001b[37m\u001b[0m \u001b[1m0s\u001b[0m 34ms/step - loss: 0.0118 - val_loss: 0.0396\n",
      "Epoch 8/100\n",
      "\u001b[1m3/3\u001b[0m \u001b[32m━━━━━━━━━━━━━━━━━━━━\u001b[0m\u001b[37m\u001b[0m \u001b[1m0s\u001b[0m 38ms/step - loss: 0.0217 - val_loss: 0.0354\n",
      "Epoch 9/100\n",
      "\u001b[1m3/3\u001b[0m \u001b[32m━━━━━━━━━━━━━━━━━━━━\u001b[0m\u001b[37m\u001b[0m \u001b[1m0s\u001b[0m 31ms/step - loss: 0.0175 - val_loss: 0.0167\n",
      "Epoch 10/100\n",
      "\u001b[1m3/3\u001b[0m \u001b[32m━━━━━━━━━━━━━━━━━━━━\u001b[0m\u001b[37m\u001b[0m \u001b[1m0s\u001b[0m 37ms/step - loss: 0.0079 - val_loss: 0.0061\n",
      "Epoch 11/100\n",
      "\u001b[1m3/3\u001b[0m \u001b[32m━━━━━━━━━━━━━━━━━━━━\u001b[0m\u001b[37m\u001b[0m \u001b[1m0s\u001b[0m 33ms/step - loss: 0.0073 - val_loss: 0.0084\n",
      "Epoch 12/100\n",
      "\u001b[1m3/3\u001b[0m \u001b[32m━━━━━━━━━━━━━━━━━━━━\u001b[0m\u001b[37m\u001b[0m \u001b[1m0s\u001b[0m 31ms/step - loss: 0.0105 - val_loss: 0.0069\n",
      "Epoch 13/100\n",
      "\u001b[1m3/3\u001b[0m \u001b[32m━━━━━━━━━━━━━━━━━━━━\u001b[0m\u001b[37m\u001b[0m \u001b[1m0s\u001b[0m 32ms/step - loss: 0.0082 - val_loss: 0.0069\n",
      "Epoch 14/100\n",
      "\u001b[1m3/3\u001b[0m \u001b[32m━━━━━━━━━━━━━━━━━━━━\u001b[0m\u001b[37m\u001b[0m \u001b[1m0s\u001b[0m 33ms/step - loss: 0.0056 - val_loss: 0.0116\n",
      "Epoch 15/100\n",
      "\u001b[1m3/3\u001b[0m \u001b[32m━━━━━━━━━━━━━━━━━━━━\u001b[0m\u001b[37m\u001b[0m \u001b[1m0s\u001b[0m 34ms/step - loss: 0.0069 - val_loss: 0.0111\n",
      "Epoch 16/100\n",
      "\u001b[1m3/3\u001b[0m \u001b[32m━━━━━━━━━━━━━━━━━━━━\u001b[0m\u001b[37m\u001b[0m \u001b[1m0s\u001b[0m 33ms/step - loss: 0.0057 - val_loss: 0.0076\n",
      "Epoch 17/100\n",
      "\u001b[1m3/3\u001b[0m \u001b[32m━━━━━━━━━━━━━━━━━━━━\u001b[0m\u001b[37m\u001b[0m \u001b[1m0s\u001b[0m 31ms/step - loss: 0.0046 - val_loss: 0.0057\n",
      "Epoch 18/100\n",
      "\u001b[1m3/3\u001b[0m \u001b[32m━━━━━━━━━━━━━━━━━━━━\u001b[0m\u001b[37m\u001b[0m \u001b[1m0s\u001b[0m 30ms/step - loss: 0.0051 - val_loss: 0.0058\n",
      "Epoch 19/100\n",
      "\u001b[1m3/3\u001b[0m \u001b[32m━━━━━━━━━━━━━━━━━━━━\u001b[0m\u001b[37m\u001b[0m \u001b[1m0s\u001b[0m 33ms/step - loss: 0.0047 - val_loss: 0.0056\n",
      "Epoch 20/100\n",
      "\u001b[1m3/3\u001b[0m \u001b[32m━━━━━━━━━━━━━━━━━━━━\u001b[0m\u001b[37m\u001b[0m \u001b[1m0s\u001b[0m 37ms/step - loss: 0.0041 - val_loss: 0.0064\n",
      "Epoch 21/100\n",
      "\u001b[1m3/3\u001b[0m \u001b[32m━━━━━━━━━━━━━━━━━━━━\u001b[0m\u001b[37m\u001b[0m \u001b[1m0s\u001b[0m 30ms/step - loss: 0.0040 - val_loss: 0.0075\n",
      "Epoch 22/100\n",
      "\u001b[1m3/3\u001b[0m \u001b[32m━━━━━━━━━━━━━━━━━━━━\u001b[0m\u001b[37m\u001b[0m \u001b[1m0s\u001b[0m 32ms/step - loss: 0.0044 - val_loss: 0.0067\n",
      "Epoch 23/100\n",
      "\u001b[1m3/3\u001b[0m \u001b[32m━━━━━━━━━━━━━━━━━━━━\u001b[0m\u001b[37m\u001b[0m \u001b[1m0s\u001b[0m 31ms/step - loss: 0.0040 - val_loss: 0.0056\n",
      "Epoch 24/100\n",
      "\u001b[1m3/3\u001b[0m \u001b[32m━━━━━━━━━━━━━━━━━━━━\u001b[0m\u001b[37m\u001b[0m \u001b[1m0s\u001b[0m 34ms/step - loss: 0.0036 - val_loss: 0.0054\n",
      "Epoch 25/100\n",
      "\u001b[1m3/3\u001b[0m \u001b[32m━━━━━━━━━━━━━━━━━━━━\u001b[0m\u001b[37m\u001b[0m \u001b[1m0s\u001b[0m 30ms/step - loss: 0.0036 - val_loss: 0.0054\n",
      "Epoch 26/100\n",
      "\u001b[1m3/3\u001b[0m \u001b[32m━━━━━━━━━━━━━━━━━━━━\u001b[0m\u001b[37m\u001b[0m \u001b[1m0s\u001b[0m 30ms/step - loss: 0.0036 - val_loss: 0.0057\n",
      "Epoch 27/100\n",
      "\u001b[1m3/3\u001b[0m \u001b[32m━━━━━━━━━━━━━━━━━━━━\u001b[0m\u001b[37m\u001b[0m \u001b[1m0s\u001b[0m 37ms/step - loss: 0.0034 - val_loss: 0.0059\n",
      "Epoch 28/100\n",
      "\u001b[1m3/3\u001b[0m \u001b[32m━━━━━━━━━━━━━━━━━━━━\u001b[0m\u001b[37m\u001b[0m \u001b[1m0s\u001b[0m 32ms/step - loss: 0.0036 - val_loss: 0.0058\n",
      "Epoch 29/100\n",
      "\u001b[1m3/3\u001b[0m \u001b[32m━━━━━━━━━━━━━━━━━━━━\u001b[0m\u001b[37m\u001b[0m \u001b[1m0s\u001b[0m 30ms/step - loss: 0.0036 - val_loss: 0.0054\n",
      "Epoch 30/100\n",
      "\u001b[1m3/3\u001b[0m \u001b[32m━━━━━━━━━━━━━━━━━━━━\u001b[0m\u001b[37m\u001b[0m \u001b[1m0s\u001b[0m 30ms/step - loss: 0.0036 - val_loss: 0.0055\n",
      "Epoch 31/100\n",
      "\u001b[1m3/3\u001b[0m \u001b[32m━━━━━━━━━━━━━━━━━━━━\u001b[0m\u001b[37m\u001b[0m \u001b[1m0s\u001b[0m 30ms/step - loss: 0.0040 - val_loss: 0.0054\n",
      "Epoch 32/100\n",
      "\u001b[1m3/3\u001b[0m \u001b[32m━━━━━━━━━━━━━━━━━━━━\u001b[0m\u001b[37m\u001b[0m \u001b[1m0s\u001b[0m 34ms/step - loss: 0.0036 - val_loss: 0.0058\n",
      "Epoch 33/100\n",
      "\u001b[1m3/3\u001b[0m \u001b[32m━━━━━━━━━━━━━━━━━━━━\u001b[0m\u001b[37m\u001b[0m \u001b[1m0s\u001b[0m 29ms/step - loss: 0.0038 - val_loss: 0.0058\n",
      "Epoch 34/100\n",
      "\u001b[1m3/3\u001b[0m \u001b[32m━━━━━━━━━━━━━━━━━━━━\u001b[0m\u001b[37m\u001b[0m \u001b[1m0s\u001b[0m 35ms/step - loss: 0.0036 - val_loss: 0.0054\n",
      "Epoch 35/100\n",
      "\u001b[1m3/3\u001b[0m \u001b[32m━━━━━━━━━━━━━━━━━━━━\u001b[0m\u001b[37m\u001b[0m \u001b[1m0s\u001b[0m 30ms/step - loss: 0.0033 - val_loss: 0.0054\n",
      "Epoch 36/100\n",
      "\u001b[1m3/3\u001b[0m \u001b[32m━━━━━━━━━━━━━━━━━━━━\u001b[0m\u001b[37m\u001b[0m \u001b[1m0s\u001b[0m 43ms/step - loss: 0.0036 - val_loss: 0.0053\n",
      "Epoch 37/100\n",
      "\u001b[1m3/3\u001b[0m \u001b[32m━━━━━━━━━━━━━━━━━━━━\u001b[0m\u001b[37m\u001b[0m \u001b[1m0s\u001b[0m 33ms/step - loss: 0.0039 - val_loss: 0.0057\n",
      "Epoch 38/100\n",
      "\u001b[1m3/3\u001b[0m \u001b[32m━━━━━━━━━━━━━━━━━━━━\u001b[0m\u001b[37m\u001b[0m \u001b[1m0s\u001b[0m 30ms/step - loss: 0.0036 - val_loss: 0.0055\n",
      "Epoch 39/100\n",
      "\u001b[1m3/3\u001b[0m \u001b[32m━━━━━━━━━━━━━━━━━━━━\u001b[0m\u001b[37m\u001b[0m \u001b[1m0s\u001b[0m 30ms/step - loss: 0.0032 - val_loss: 0.0053\n",
      "Epoch 40/100\n",
      "\u001b[1m3/3\u001b[0m \u001b[32m━━━━━━━━━━━━━━━━━━━━\u001b[0m\u001b[37m\u001b[0m \u001b[1m0s\u001b[0m 31ms/step - loss: 0.0035 - val_loss: 0.0053\n",
      "Epoch 41/100\n",
      "\u001b[1m3/3\u001b[0m \u001b[32m━━━━━━━━━━━━━━━━━━━━\u001b[0m\u001b[37m\u001b[0m \u001b[1m0s\u001b[0m 30ms/step - loss: 0.0034 - val_loss: 0.0054\n",
      "Epoch 42/100\n",
      "\u001b[1m3/3\u001b[0m \u001b[32m━━━━━━━━━━━━━━━━━━━━\u001b[0m\u001b[37m\u001b[0m \u001b[1m0s\u001b[0m 30ms/step - loss: 0.0035 - val_loss: 0.0054\n",
      "Epoch 43/100\n",
      "\u001b[1m3/3\u001b[0m \u001b[32m━━━━━━━━━━━━━━━━━━━━\u001b[0m\u001b[37m\u001b[0m \u001b[1m0s\u001b[0m 29ms/step - loss: 0.0030 - val_loss: 0.0054\n",
      "Epoch 44/100\n",
      "\u001b[1m3/3\u001b[0m \u001b[32m━━━━━━━━━━━━━━━━━━━━\u001b[0m\u001b[37m\u001b[0m \u001b[1m0s\u001b[0m 32ms/step - loss: 0.0032 - val_loss: 0.0058\n",
      "Epoch 45/100\n",
      "\u001b[1m3/3\u001b[0m \u001b[32m━━━━━━━━━━━━━━━━━━━━\u001b[0m\u001b[37m\u001b[0m \u001b[1m0s\u001b[0m 40ms/step - loss: 0.0036 - val_loss: 0.0058\n",
      "Epoch 46/100\n",
      "\u001b[1m3/3\u001b[0m \u001b[32m━━━━━━━━━━━━━━━━━━━━\u001b[0m\u001b[37m\u001b[0m \u001b[1m0s\u001b[0m 35ms/step - loss: 0.0035 - val_loss: 0.0053\n",
      "Epoch 47/100\n",
      "\u001b[1m3/3\u001b[0m \u001b[32m━━━━━━━━━━━━━━━━━━━━\u001b[0m\u001b[37m\u001b[0m \u001b[1m0s\u001b[0m 39ms/step - loss: 0.0035 - val_loss: 0.0053\n",
      "Epoch 48/100\n",
      "\u001b[1m3/3\u001b[0m \u001b[32m━━━━━━━━━━━━━━━━━━━━\u001b[0m\u001b[37m\u001b[0m \u001b[1m0s\u001b[0m 32ms/step - loss: 0.0032 - val_loss: 0.0056\n",
      "Epoch 49/100\n",
      "\u001b[1m3/3\u001b[0m \u001b[32m━━━━━━━━━━━━━━━━━━━━\u001b[0m\u001b[37m\u001b[0m \u001b[1m0s\u001b[0m 31ms/step - loss: 0.0037 - val_loss: 0.0058\n",
      "Epoch 50/100\n",
      "\u001b[1m3/3\u001b[0m \u001b[32m━━━━━━━━━━━━━━━━━━━━\u001b[0m\u001b[37m\u001b[0m \u001b[1m0s\u001b[0m 36ms/step - loss: 0.0035 - val_loss: 0.0053\n",
      "Epoch 51/100\n",
      "\u001b[1m3/3\u001b[0m \u001b[32m━━━━━━━━━━━━━━━━━━━━\u001b[0m\u001b[37m\u001b[0m \u001b[1m0s\u001b[0m 31ms/step - loss: 0.0036 - val_loss: 0.0053\n",
      "Epoch 52/100\n",
      "\u001b[1m3/3\u001b[0m \u001b[32m━━━━━━━━━━━━━━━━━━━━\u001b[0m\u001b[37m\u001b[0m \u001b[1m0s\u001b[0m 32ms/step - loss: 0.0038 - val_loss: 0.0053\n",
      "Epoch 53/100\n",
      "\u001b[1m3/3\u001b[0m \u001b[32m━━━━━━━━━━━━━━━━━━━━\u001b[0m\u001b[37m\u001b[0m \u001b[1m0s\u001b[0m 32ms/step - loss: 0.0035 - val_loss: 0.0054\n",
      "Epoch 54/100\n",
      "\u001b[1m3/3\u001b[0m \u001b[32m━━━━━━━━━━━━━━━━━━━━\u001b[0m\u001b[37m\u001b[0m \u001b[1m0s\u001b[0m 33ms/step - loss: 0.0034 - val_loss: 0.0054\n",
      "Epoch 55/100\n",
      "\u001b[1m3/3\u001b[0m \u001b[32m━━━━━━━━━━━━━━━━━━━━\u001b[0m\u001b[37m\u001b[0m \u001b[1m0s\u001b[0m 30ms/step - loss: 0.0037 - val_loss: 0.0053\n",
      "Epoch 56/100\n",
      "\u001b[1m3/3\u001b[0m \u001b[32m━━━━━━━━━━━━━━━━━━━━\u001b[0m\u001b[37m\u001b[0m \u001b[1m0s\u001b[0m 30ms/step - loss: 0.0037 - val_loss: 0.0053\n",
      "Epoch 57/100\n",
      "\u001b[1m3/3\u001b[0m \u001b[32m━━━━━━━━━━━━━━━━━━━━\u001b[0m\u001b[37m\u001b[0m \u001b[1m0s\u001b[0m 30ms/step - loss: 0.0033 - val_loss: 0.0053\n",
      "Epoch 58/100\n",
      "\u001b[1m3/3\u001b[0m \u001b[32m━━━━━━━━━━━━━━━━━━━━\u001b[0m\u001b[37m\u001b[0m \u001b[1m0s\u001b[0m 26ms/step - loss: 0.0035 - val_loss: 0.0054\n",
      "Epoch 59/100\n",
      "\u001b[1m3/3\u001b[0m \u001b[32m━━━━━━━━━━━━━━━━━━━━\u001b[0m\u001b[37m\u001b[0m \u001b[1m0s\u001b[0m 29ms/step - loss: 0.0038 - val_loss: 0.0055\n",
      "Epoch 60/100\n",
      "\u001b[1m3/3\u001b[0m \u001b[32m━━━━━━━━━━━━━━━━━━━━\u001b[0m\u001b[37m\u001b[0m \u001b[1m0s\u001b[0m 31ms/step - loss: 0.0037 - val_loss: 0.0053\n",
      "Epoch 61/100\n",
      "\u001b[1m3/3\u001b[0m \u001b[32m━━━━━━━━━━━━━━━━━━━━\u001b[0m\u001b[37m\u001b[0m \u001b[1m0s\u001b[0m 29ms/step - loss: 0.0033 - val_loss: 0.0053\n",
      "Epoch 62/100\n",
      "\u001b[1m3/3\u001b[0m \u001b[32m━━━━━━━━━━━━━━━━━━━━\u001b[0m\u001b[37m\u001b[0m \u001b[1m0s\u001b[0m 26ms/step - loss: 0.0035 - val_loss: 0.0053\n",
      "Epoch 63/100\n",
      "\u001b[1m3/3\u001b[0m \u001b[32m━━━━━━━━━━━━━━━━━━━━\u001b[0m\u001b[37m\u001b[0m \u001b[1m0s\u001b[0m 29ms/step - loss: 0.0034 - val_loss: 0.0054\n",
      "Epoch 64/100\n",
      "\u001b[1m3/3\u001b[0m \u001b[32m━━━━━━━━━━━━━━━━━━━━\u001b[0m\u001b[37m\u001b[0m \u001b[1m0s\u001b[0m 29ms/step - loss: 0.0037 - val_loss: 0.0055\n",
      "Epoch 65/100\n",
      "\u001b[1m3/3\u001b[0m \u001b[32m━━━━━━━━━━━━━━━━━━━━\u001b[0m\u001b[37m\u001b[0m \u001b[1m0s\u001b[0m 29ms/step - loss: 0.0034 - val_loss: 0.0053\n",
      "Epoch 66/100\n",
      "\u001b[1m3/3\u001b[0m \u001b[32m━━━━━━━━━━━━━━━━━━━━\u001b[0m\u001b[37m\u001b[0m \u001b[1m0s\u001b[0m 26ms/step - loss: 0.0037 - val_loss: 0.0053\n",
      "Epoch 67/100\n",
      "\u001b[1m3/3\u001b[0m \u001b[32m━━━━━━━━━━━━━━━━━━━━\u001b[0m\u001b[37m\u001b[0m \u001b[1m0s\u001b[0m 28ms/step - loss: 0.0033 - val_loss: 0.0052\n",
      "Epoch 68/100\n",
      "\u001b[1m3/3\u001b[0m \u001b[32m━━━━━━━━━━━━━━━━━━━━\u001b[0m\u001b[37m\u001b[0m \u001b[1m0s\u001b[0m 29ms/step - loss: 0.0035 - val_loss: 0.0054\n",
      "Epoch 69/100\n",
      "\u001b[1m3/3\u001b[0m \u001b[32m━━━━━━━━━━━━━━━━━━━━\u001b[0m\u001b[37m\u001b[0m \u001b[1m0s\u001b[0m 27ms/step - loss: 0.0033 - val_loss: 0.0055\n",
      "Epoch 70/100\n",
      "\u001b[1m3/3\u001b[0m \u001b[32m━━━━━━━━━━━━━━━━━━━━\u001b[0m\u001b[37m\u001b[0m \u001b[1m0s\u001b[0m 26ms/step - loss: 0.0035 - val_loss: 0.0055\n",
      "Epoch 71/100\n",
      "\u001b[1m3/3\u001b[0m \u001b[32m━━━━━━━━━━━━━━━━━━━━\u001b[0m\u001b[37m\u001b[0m \u001b[1m0s\u001b[0m 28ms/step - loss: 0.0036 - val_loss: 0.0052\n",
      "Epoch 72/100\n",
      "\u001b[1m3/3\u001b[0m \u001b[32m━━━━━━━━━━━━━━━━━━━━\u001b[0m\u001b[37m\u001b[0m \u001b[1m0s\u001b[0m 33ms/step - loss: 0.0036 - val_loss: 0.0053\n",
      "Epoch 73/100\n",
      "\u001b[1m3/3\u001b[0m \u001b[32m━━━━━━━━━━━━━━━━━━━━\u001b[0m\u001b[37m\u001b[0m \u001b[1m0s\u001b[0m 33ms/step - loss: 0.0033 - val_loss: 0.0054\n",
      "Epoch 74/100\n",
      "\u001b[1m3/3\u001b[0m \u001b[32m━━━━━━━━━━━━━━━━━━━━\u001b[0m\u001b[37m\u001b[0m \u001b[1m0s\u001b[0m 29ms/step - loss: 0.0037 - val_loss: 0.0054\n",
      "Epoch 75/100\n",
      "\u001b[1m3/3\u001b[0m \u001b[32m━━━━━━━━━━━━━━━━━━━━\u001b[0m\u001b[37m\u001b[0m \u001b[1m0s\u001b[0m 30ms/step - loss: 0.0036 - val_loss: 0.0052\n",
      "Epoch 76/100\n",
      "\u001b[1m3/3\u001b[0m \u001b[32m━━━━━━━━━━━━━━━━━━━━\u001b[0m\u001b[37m\u001b[0m \u001b[1m0s\u001b[0m 30ms/step - loss: 0.0036 - val_loss: 0.0052\n",
      "Epoch 77/100\n",
      "\u001b[1m3/3\u001b[0m \u001b[32m━━━━━━━━━━━━━━━━━━━━\u001b[0m\u001b[37m\u001b[0m \u001b[1m0s\u001b[0m 27ms/step - loss: 0.0030 - val_loss: 0.0053\n",
      "Epoch 78/100\n",
      "\u001b[1m3/3\u001b[0m \u001b[32m━━━━━━━━━━━━━━━━━━━━\u001b[0m\u001b[37m\u001b[0m \u001b[1m0s\u001b[0m 27ms/step - loss: 0.0033 - val_loss: 0.0058\n",
      "Epoch 79/100\n",
      "\u001b[1m3/3\u001b[0m \u001b[32m━━━━━━━━━━━━━━━━━━━━\u001b[0m\u001b[37m\u001b[0m \u001b[1m0s\u001b[0m 30ms/step - loss: 0.0037 - val_loss: 0.0054\n",
      "Epoch 80/100\n",
      "\u001b[1m3/3\u001b[0m \u001b[32m━━━━━━━━━━━━━━━━━━━━\u001b[0m\u001b[37m\u001b[0m \u001b[1m0s\u001b[0m 30ms/step - loss: 0.0035 - val_loss: 0.0053\n",
      "Epoch 81/100\n",
      "\u001b[1m3/3\u001b[0m \u001b[32m━━━━━━━━━━━━━━━━━━━━\u001b[0m\u001b[37m\u001b[0m \u001b[1m0s\u001b[0m 34ms/step - loss: 0.0035 - val_loss: 0.0052\n",
      "Epoch 82/100\n",
      "\u001b[1m3/3\u001b[0m \u001b[32m━━━━━━━━━━━━━━━━━━━━\u001b[0m\u001b[37m\u001b[0m \u001b[1m0s\u001b[0m 29ms/step - loss: 0.0036 - val_loss: 0.0053\n",
      "Epoch 83/100\n",
      "\u001b[1m3/3\u001b[0m \u001b[32m━━━━━━━━━━━━━━━━━━━━\u001b[0m\u001b[37m\u001b[0m \u001b[1m0s\u001b[0m 33ms/step - loss: 0.0033 - val_loss: 0.0053\n",
      "Epoch 84/100\n",
      "\u001b[1m3/3\u001b[0m \u001b[32m━━━━━━━━━━━━━━━━━━━━\u001b[0m\u001b[37m\u001b[0m \u001b[1m0s\u001b[0m 31ms/step - loss: 0.0035 - val_loss: 0.0052\n",
      "Epoch 85/100\n",
      "\u001b[1m3/3\u001b[0m \u001b[32m━━━━━━━━━━━━━━━━━━━━\u001b[0m\u001b[37m\u001b[0m \u001b[1m0s\u001b[0m 33ms/step - loss: 0.0034 - val_loss: 0.0052\n",
      "Epoch 86/100\n",
      "\u001b[1m3/3\u001b[0m \u001b[32m━━━━━━━━━━━━━━━━━━━━\u001b[0m\u001b[37m\u001b[0m \u001b[1m0s\u001b[0m 27ms/step - loss: 0.0040 - val_loss: 0.0052\n",
      "Epoch 87/100\n",
      "\u001b[1m3/3\u001b[0m \u001b[32m━━━━━━━━━━━━━━━━━━━━\u001b[0m\u001b[37m\u001b[0m \u001b[1m0s\u001b[0m 33ms/step - loss: 0.0034 - val_loss: 0.0053\n",
      "Epoch 88/100\n",
      "\u001b[1m3/3\u001b[0m \u001b[32m━━━━━━━━━━━━━━━━━━━━\u001b[0m\u001b[37m\u001b[0m \u001b[1m0s\u001b[0m 32ms/step - loss: 0.0035 - val_loss: 0.0056\n",
      "Epoch 89/100\n",
      "\u001b[1m3/3\u001b[0m \u001b[32m━━━━━━━━━━━━━━━━━━━━\u001b[0m\u001b[37m\u001b[0m \u001b[1m0s\u001b[0m 27ms/step - loss: 0.0032 - val_loss: 0.0052\n",
      "Epoch 90/100\n",
      "\u001b[1m3/3\u001b[0m \u001b[32m━━━━━━━━━━━━━━━━━━━━\u001b[0m\u001b[37m\u001b[0m \u001b[1m0s\u001b[0m 28ms/step - loss: 0.0034 - val_loss: 0.0052\n",
      "Epoch 91/100\n",
      "\u001b[1m3/3\u001b[0m \u001b[32m━━━━━━━━━━━━━━━━━━━━\u001b[0m\u001b[37m\u001b[0m \u001b[1m0s\u001b[0m 38ms/step - loss: 0.0036 - val_loss: 0.0054\n",
      "Epoch 92/100\n",
      "\u001b[1m3/3\u001b[0m \u001b[32m━━━━━━━━━━━━━━━━━━━━\u001b[0m\u001b[37m\u001b[0m \u001b[1m0s\u001b[0m 31ms/step - loss: 0.0033 - val_loss: 0.0052\n",
      "Epoch 93/100\n",
      "\u001b[1m3/3\u001b[0m \u001b[32m━━━━━━━━━━━━━━━━━━━━\u001b[0m\u001b[37m\u001b[0m \u001b[1m0s\u001b[0m 29ms/step - loss: 0.0034 - val_loss: 0.0052\n",
      "Epoch 94/100\n",
      "\u001b[1m3/3\u001b[0m \u001b[32m━━━━━━━━━━━━━━━━━━━━\u001b[0m\u001b[37m\u001b[0m \u001b[1m0s\u001b[0m 31ms/step - loss: 0.0035 - val_loss: 0.0052\n",
      "Epoch 95/100\n",
      "\u001b[1m3/3\u001b[0m \u001b[32m━━━━━━━━━━━━━━━━━━━━\u001b[0m\u001b[37m\u001b[0m \u001b[1m0s\u001b[0m 33ms/step - loss: 0.0032 - val_loss: 0.0053\n",
      "Epoch 96/100\n",
      "\u001b[1m3/3\u001b[0m \u001b[32m━━━━━━━━━━━━━━━━━━━━\u001b[0m\u001b[37m\u001b[0m \u001b[1m0s\u001b[0m 26ms/step - loss: 0.0034 - val_loss: 0.0052\n",
      "Epoch 97/100\n",
      "\u001b[1m3/3\u001b[0m \u001b[32m━━━━━━━━━━━━━━━━━━━━\u001b[0m\u001b[37m\u001b[0m \u001b[1m0s\u001b[0m 29ms/step - loss: 0.0031 - val_loss: 0.0052\n",
      "Epoch 98/100\n",
      "\u001b[1m3/3\u001b[0m \u001b[32m━━━━━━━━━━━━━━━━━━━━\u001b[0m\u001b[37m\u001b[0m \u001b[1m0s\u001b[0m 39ms/step - loss: 0.0036 - val_loss: 0.0055\n",
      "Epoch 99/100\n",
      "\u001b[1m3/3\u001b[0m \u001b[32m━━━━━━━━━━━━━━━━━━━━\u001b[0m\u001b[37m\u001b[0m \u001b[1m0s\u001b[0m 37ms/step - loss: 0.0033 - val_loss: 0.0051\n",
      "Epoch 100/100\n",
      "\u001b[1m3/3\u001b[0m \u001b[32m━━━━━━━━━━━━━━━━━━━━\u001b[0m\u001b[37m\u001b[0m \u001b[1m0s\u001b[0m 34ms/step - loss: 0.0031 - val_loss: 0.0051\n"
     ]
    },
    {
     "data": {
      "text/plain": [
       "<keras.src.callbacks.history.History at 0x26480a49990>"
      ]
     },
     "execution_count": 27,
     "metadata": {},
     "output_type": "execute_result"
    }
   ],
   "source": [
    "model.fit(X_train,y_train,validation_data=(X_test,ytest),epochs=100,batch_size=64,verbose=1)"
   ]
  },
  {
   "cell_type": "code",
   "execution_count": 28,
   "id": "9c2cc841-ed35-4d52-bff0-0b27d0b877db",
   "metadata": {},
   "outputs": [],
   "source": [
    "import tensorflow as tf"
   ]
  },
  {
   "cell_type": "code",
   "execution_count": 29,
   "id": "215f3d67-7e27-484f-8f96-b57d38118205",
   "metadata": {},
   "outputs": [
    {
     "data": {
      "text/plain": [
       "'2.17.0'"
      ]
     },
     "execution_count": 29,
     "metadata": {},
     "output_type": "execute_result"
    }
   ],
   "source": [
    "tf.__version__"
   ]
  },
  {
   "cell_type": "code",
   "execution_count": 30,
   "id": "86e50a9d-543b-46d4-a537-d0911b4970dd",
   "metadata": {},
   "outputs": [
    {
     "name": "stdout",
     "output_type": "stream",
     "text": [
      "\u001b[1m5/5\u001b[0m \u001b[32m━━━━━━━━━━━━━━━━━━━━\u001b[0m\u001b[37m\u001b[0m \u001b[1m1s\u001b[0m 106ms/step\n",
      "\u001b[1m3/3\u001b[0m \u001b[32m━━━━━━━━━━━━━━━━━━━━\u001b[0m\u001b[37m\u001b[0m \u001b[1m0s\u001b[0m 4ms/step \n"
     ]
    }
   ],
   "source": [
    "### Lets Do the prediction and check performance metrics\n",
    "train_predict=model.predict(X_train)\n",
    "test_predict=model.predict(X_test)"
   ]
  },
  {
   "cell_type": "code",
   "execution_count": 31,
   "id": "2604c4a2-f2f3-401c-8fc0-f6c4b0a1a718",
   "metadata": {},
   "outputs": [],
   "source": [
    "##Transformback to original form\n",
    "train_predict=scaler.inverse_transform(train_predict)\n",
    "test_predict=scaler.inverse_transform(test_predict)\n",
    "\n"
   ]
  },
  {
   "cell_type": "code",
   "execution_count": 32,
   "id": "b77ee4e9-f210-46a4-83d5-fabf2c3d4056",
   "metadata": {},
   "outputs": [
    {
     "data": {
      "text/plain": [
       "169.62728653393165"
      ]
     },
     "execution_count": 32,
     "metadata": {},
     "output_type": "execute_result"
    }
   ],
   "source": [
    "### Calculate RMSE performance metrics\n",
    "import math\n",
    "from sklearn.metrics import mean_squared_error\n",
    "math.sqrt(mean_squared_error(y_train,train_predict))\n"
   ]
  },
  {
   "cell_type": "code",
   "execution_count": 33,
   "id": "34b0eb7e-08fa-4864-bcbe-817af7b78bd8",
   "metadata": {},
   "outputs": [
    {
     "data": {
      "text/plain": [
       "181.69001229091748"
      ]
     },
     "execution_count": 33,
     "metadata": {},
     "output_type": "execute_result"
    }
   ],
   "source": [
    "### Test Data RMSE\n",
    "math.sqrt(mean_squared_error(ytest,test_predict))\n"
   ]
  },
  {
   "cell_type": "code",
   "execution_count": 46,
   "id": "67f39a24-b147-4d58-8944-25411ffc2da5",
   "metadata": {},
   "outputs": [
    {
     "name": "stdout",
     "output_type": "stream",
     "text": [
      "Shape of df1: (250, 1)\n",
      "Shape of train_predict: (151, 1)\n",
      "Shape of trainPredictPlot: (150, 1)\n"
     ]
    }
   ],
   "source": [
    "print(\"Shape of df1:\", df1.shape)\n",
    "print(\"Shape of train_predict:\", train_predict.shape)\n",
    "print(\"Shape of trainPredictPlot:\", trainPredictPlot[look_back:look_back + len(train_predict), :].shape)\n"
   ]
  },
  {
   "cell_type": "code",
   "execution_count": 48,
   "id": "0dc7cb1e-9662-48cd-95b7-4b7df19770e7",
   "metadata": {},
   "outputs": [
    {
     "data": {
      "image/png": "[encoded data removed]",
      "text/plain": [
       "<Figure size 640x480 with 1 Axes>"
      ]
     },
     "metadata": {},
     "output_type": "display_data"
    }
   ],
   "source": [
    "import numpy as np\n",
    "import matplotlib.pyplot as plt\n",
    "\n",
    "look_back = 100\n",
    "\n",
    "# Shift train predictions for plotting\n",
    "trainPredictPlot = np.empty_like(df1)\n",
    "trainPredictPlot[:, :] = np.nan\n",
    "\n",
    "trainPredictPlot[look_back - 1:look_back - 1 + len(train_predict), :] = train_predict\n",
    "\n",
    "# Shift test predictions for plotting\n",
    "testPredictPlot = np.empty_like(df1)\n",
    "testPredictPlot[:, :] = np.nan\n",
    "\n",
    "# Plot baseline and predictions\n",
    "plt.plot(scaler.inverse_transform(df1))\n",
    "plt.plot(trainPredictPlot)\n",
    "plt.plot(testPredictPlot)\n",
    "plt.show()\n"
   ]
  },
  {
   "cell_type": "code",
   "execution_count": 49,
   "id": "4672498f-a271-431d-817f-f7aaef602f0e",
   "metadata": {},
   "outputs": [
    {
     "data": {
      "text/plain": [
       "88"
      ]
     },
     "execution_count": 49,
     "metadata": {},
     "output_type": "execute_result"
    }
   ],
   "source": [
    " len(test_data)\n"
   ]
  },
  {
   "cell_type": "code",
   "execution_count": 54,
   "id": "c7931b79-1dfe-408e-9f46-d01c2205cf29",
   "metadata": {},
   "outputs": [
    {
     "data": {
      "text/plain": [
       "(1, 10)"
      ]
     },
     "execution_count": 54,
     "metadata": {},
     "output_type": "execute_result"
    }
   ],
   "source": [
    "x_input=test_data[78:].reshape(1,-1)\n",
    "x_input.shape"
   ]
  },
  {
   "cell_type": "code",
   "execution_count": 57,
   "id": "466a3134-177f-40a0-b8cb-a024e1f877a1",
   "metadata": {},
   "outputs": [],
   "source": [
    "temp_input=list(x_input)\n",
    "temp_input=temp_input[0].tolist()\n"
   ]
  },
  {
   "cell_type": "code",
   "execution_count": 58,
   "id": "f2d030ed-1eae-49df-963d-d4de4e9790a3",
   "metadata": {},
   "outputs": [
    {
     "data": {
      "text/plain": [
       "[[0.9926118484060744],\n",
       " [0.9696264878916403],\n",
       " [0.9839923382131617],\n",
       " [0.9551238199480094],\n",
       " [0.9530715556163631],\n",
       " [0.9382952524285124],\n",
       " [0.9307702832124778],\n",
       " [0.9321384594335749],\n",
       " [0.9380216171842934],\n",
       " [0.9236557668627716]]"
      ]
     },
     "execution_count": 58,
     "metadata": {},
     "output_type": "execute_result"
    }
   ],
   "source": [
    "temp_input\n",
    "\n"
   ]
  },
  {
   "cell_type": "code",
   "execution_count": 59,
   "id": "58cc17dd-d002-4141-8c99-e6ccdd6e34f2",
   "metadata": {},
   "outputs": [
    {
     "name": "stdout",
     "output_type": "stream",
     "text": [
      "[0.9443977]\n",
      "11\n",
      "[0.9443977]\n",
      "12\n",
      "[0.9443977]\n",
      "13\n",
      "[0.9443977]\n",
      "14\n",
      "[0.9443977]\n",
      "15\n",
      "[0.9443977]\n",
      "16\n",
      "[0.9443977]\n",
      "17\n",
      "[0.9443977]\n",
      "18\n",
      "[0.9443977]\n",
      "19\n",
      "[0.9443977]\n",
      "20\n",
      "[0.9443977]\n",
      "21\n",
      "[0.9443977]\n",
      "22\n",
      "[0.9443977]\n",
      "23\n",
      "[0.9443977]\n",
      "24\n",
      "[0.9443977]\n",
      "25\n",
      "[0.9443977]\n",
      "26\n",
      "[0.9443977]\n",
      "27\n",
      "[0.9443977]\n",
      "28\n",
      "[0.9443977]\n",
      "29\n",
      "[0.9443977]\n",
      "30\n",
      "[0.9443977]\n",
      "31\n",
      "[0.9443977]\n",
      "32\n",
      "[0.9443977]\n",
      "33\n",
      "[0.9443977]\n",
      "34\n",
      "[0.9443977]\n",
      "35\n",
      "[0.9443977]\n",
      "36\n",
      "[0.9443977]\n",
      "37\n",
      "[0.9443977]\n",
      "38\n",
      "[0.9443977]\n",
      "39\n",
      "[0.9443977]\n",
      "40\n",
      "[[0.9443976879119873], [0.9443976879119873], [0.9443976879119873], [0.9443976879119873], [0.9443976879119873], [0.9443976879119873], [0.9443976879119873], [0.9443976879119873], [0.9443976879119873], [0.9443976879119873], [0.9443976879119873], [0.9443976879119873], [0.9443976879119873], [0.9443976879119873], [0.9443976879119873], [0.9443976879119873], [0.9443976879119873], [0.9443976879119873], [0.9443976879119873], [0.9443976879119873], [0.9443976879119873], [0.9443976879119873], [0.9443976879119873], [0.9443976879119873], [0.9443976879119873], [0.9443976879119873], [0.9443976879119873], [0.9443976879119873], [0.9443976879119873], [0.9443976879119873]]\n"
     ]
    }
   ],
   "source": [
    "# demonstrate prediction for next 10 days\n",
    "from numpy import array\n",
    "\n",
    "lst_output=[]\n",
    "n_steps=10\n",
    "i=0\n",
    "while(i<30):\n",
    "    \n",
    "    if(len(temp_input)>100):\n",
    "        #print(temp_input)\n",
    "        x_input=np.array(temp_input[1:])\n",
    "        print(\"{} day input {}\".format(i,x_input))\n",
    "        x_input=x_input.reshape(1,-1)\n",
    "        x_input = x_input.reshape((1, n_steps, 1))\n",
    "        #print(x_input)\n",
    "        yhat = model.predict(x_input, verbose=0)\n",
    "        print(\"{} day output {}\".format(i,yhat))\n",
    "        temp_input.extend(yhat[0].tolist())\n",
    "        temp_input=temp_input[1:]\n",
    "        #print(temp_input)\n",
    "        lst_output.extend(yhat.tolist())\n",
    "        i=i+1\n",
    "    else:\n",
    "        x_input = x_input.reshape((1, n_steps,1))\n",
    "        yhat = model.predict(x_input, verbose=0)\n",
    "        print(yhat[0])\n",
    "        temp_input.extend(yhat[0].tolist())\n",
    "        print(len(temp_input))\n",
    "        lst_output.extend(yhat.tolist())\n",
    "        i=i+1\n",
    "    \n",
    "\n",
    "print(lst_output)"
   ]
  },
  {
   "cell_type": "code",
   "execution_count": 60,
   "id": "23e1584c-e370-4dc5-a579-aa7de9a40be8",
   "metadata": {},
   "outputs": [],
   "source": [
    "day_new=np.arange(1,11)\n",
    "day_pred=np.arange(11,31)\n",
    "\n"
   ]
  },
  {
   "cell_type": "code",
   "execution_count": 61,
   "id": "2b3cf155-0931-48c6-917c-0ee0f02854b4",
   "metadata": {},
   "outputs": [
    {
     "data": {
      "text/plain": [
       "250"
      ]
     },
     "execution_count": 61,
     "metadata": {},
     "output_type": "execute_result"
    }
   ],
   "source": [
    "import matplotlib.pyplot as plt\n",
    "len(df1)\n"
   ]
  },
  {
   "cell_type": "code",
   "execution_count": 76,
   "id": "4ea0503c-a2d2-4d03-8c09-34c018ea290e",
   "metadata": {},
   "outputs": [
    {
     "data": {
      "image/png": "[encoded data removed]",
      "text/plain": [
       "<Figure size 640x480 with 1 Axes>"
      ]
     },
     "metadata": {},
     "output_type": "display_data"
    }
   ],
   "source": [
    "# Slice df1 to match the length of day_new\n",
    "df1_slice = df1[-len(day_new):]  # Get the last 100 values from df1\n",
    "\n",
    "# Plot\n",
    "plt.plot(day_new, scaler.inverse_transform(df1_slice))\n",
    "plt.plot(day_pred, scaler.inverse_transform(lst_output))\n",
    "plt.show()\n",
    "\n"
   ]
  },
  {
   "cell_type": "code",
   "execution_count": 77,
   "id": "2b8df823-f8e8-4d48-87d6-470ec8ab9c62",
   "metadata": {},
   "outputs": [
    {
     "data": {
      "text/plain": [
       "[<matplotlib.lines.Line2D at 0x2648cd10590>]"
      ]
     },
     "execution_count": 77,
     "metadata": {},
     "output_type": "execute_result"
    },
    {
     "data": {
      "image/png": "[encoded data removed]",
      "text/plain": [
       "<Figure size 640x480 with 1 Axes>"
      ]
     },
     "metadata": {},
     "output_type": "display_data"
    }
   ],
   "source": [
    "df3=df1.tolist()\n",
    "df3.extend(lst_output)\n",
    "plt.plot(df3[200:])"
   ]
  },
  {
   "cell_type": "code",
   "execution_count": 78,
   "id": "aaaed4b8-03b1-4200-9987-8b6d1dc78f64",
   "metadata": {},
   "outputs": [],
   "source": [
    "df3=scaler.inverse_transform(df3).tolist()"
   ]
  },
  {
   "cell_type": "code",
   "execution_count": 79,
   "id": "d2875084-4530-45d5-9fc8-388892de135c",
   "metadata": {},
   "outputs": [
    {
     "data": {
      "text/plain": [
       "[<matplotlib.lines.Line2D at 0x2648cd07390>]"
      ]
     },
     "execution_count": 79,
     "metadata": {},
     "output_type": "execute_result"
    },
    {
     "data": {
      "image/png": "[encoded data removed]",
      "text/plain": [
       "<Figure size 640x480 with 1 Axes>"
      ]
     },
     "metadata": {},
     "output_type": "display_data"
    }
   ],
   "source": [
    "plt.plot(df3)"
   ]
  },
  {
   "cell_type": "code",
   "execution_count": null,
   "id": "b3539ae7-fae5-4e12-8744-0dc9673014cc",
   "metadata": {},
   "outputs": [],
   "source": []
  }
 ],
 "metadata": {
  "kernelspec": {
   "display_name": "Python 3 (ipykernel)",
   "language": "python",
   "name": "python3"
  },
  "language_info": {
   "codemirror_mode": {
    "name": "ipython",
    "version": 3
   },
   "file_extension": ".py",
   "mimetype": "text/x-python",
   "name": "python",
   "nbconvert_exporter": "python",
   "pygments_lexer": "ipython3",
   "version": "3.11.9"
  }
 },
 "nbformat": 4,
 "nbformat_minor": 5
}
